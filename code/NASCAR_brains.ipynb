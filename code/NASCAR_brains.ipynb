{
 "cells": [
  {
   "cell_type": "code",
   "execution_count": 1,
   "id": "c9699ba5",
   "metadata": {},
   "outputs": [
    {
     "name": "stderr",
     "output_type": "stream",
     "text": [
      "pixdim[1,2,3] should be non-zero; setting 0 dims to 1\n"
     ]
    },
    {
     "ename": "ModuleNotFoundError",
     "evalue": "No module named 'analysis'",
     "output_type": "error",
     "traceback": [
      "\u001b[0;31m---------------------------------------------------------------------------\u001b[0m",
      "\u001b[0;31mModuleNotFoundError\u001b[0m                       Traceback (most recent call last)",
      "Cell \u001b[0;32mIn [1], line 18\u001b[0m\n\u001b[1;32m     15\u001b[0m \u001b[38;5;28;01mimport\u001b[39;00m \u001b[38;5;21;01mmatplotlib\u001b[39;00m\u001b[38;5;21;01m.\u001b[39;00m\u001b[38;5;21;01mgridspec\u001b[39;00m \u001b[38;5;28;01mas\u001b[39;00m \u001b[38;5;21;01mgridspec\u001b[39;00m\n\u001b[1;32m     16\u001b[0m \u001b[38;5;28;01mfrom\u001b[39;00m \u001b[38;5;21;01mPIL\u001b[39;00m \u001b[38;5;28;01mimport\u001b[39;00m Image\n\u001b[0;32m---> 18\u001b[0m \u001b[38;5;28;01mfrom\u001b[39;00m \u001b[38;5;21;01manalysis\u001b[39;00m \u001b[38;5;28;01mimport\u001b[39;00m plot_results\n\u001b[1;32m     19\u001b[0m \u001b[38;5;28;01mfrom\u001b[39;00m \u001b[38;5;21;01manalysis\u001b[39;00m \u001b[38;5;28;01mimport\u001b[39;00m plot_results_medial\n\u001b[1;32m     20\u001b[0m \u001b[38;5;28;01mfrom\u001b[39;00m \u001b[38;5;21;01manalysis\u001b[39;00m \u001b[38;5;28;01mimport\u001b[39;00m plot_results_medial_midthickness_alpha\n",
      "\u001b[0;31mModuleNotFoundError\u001b[0m: No module named 'analysis'"
     ]
    }
   ],
   "source": [
    "#need to run with singularity container /om2/user/jsmentch/projects/nat_img/.datalad/environments/analysis/image\n",
    "#but run with nilearn conda environment for the subcor plots..\n",
    "import nascar_utility\n",
    "import hcp_utils as hcp\n",
    "import sys\n",
    "from scipy.io import loadmat\n",
    "import numpy as np\n",
    "# Add the directory containing the function to the system path\n",
    "sys.path.insert(0, '/om2/scratch/Wed/jsmentch/nat_img/code')\n",
    "from matplotlib import pyplot as plt\n",
    "from nilearn import plotting\n",
    "import nibabel as nb\n",
    "\n",
    "# Import the function from the file\n",
    "import matplotlib.gridspec as gridspec\n",
    "from PIL import Image\n",
    "\n",
    "from analysis import plot_results\n",
    "from analysis import plot_results_medial\n",
    "from analysis import plot_results_medial_midthickness_alpha\n"
   ]
  },
  {
   "cell_type": "code",
   "execution_count": 16,
   "id": "3059eb9b-f688-44ae-b9e1-c19cc24e42e4",
   "metadata": {},
   "outputs": [],
   "source": [
    "# import matplotlib.colors as mcolors\n",
    "# cmap = plt.cm.get_cmap('RdBu')\n",
    "# cmap.set_bad(color='gray')\n",
    "\n",
    "# colors = cmap(np.linspace(-1, 1, 256))\n",
    "# colors[128:] = np.array([26/256,255/256,26/256, 1])\n",
    "# colors[:128] = np.array([95/256,0,185/256, 1])\n",
    "\n",
    "# pigr = mcolors.ListedColormap(colors)\n",
    "# pigr_r = mcolors.ListedColormap(np.flip(colors,axis=0))\n",
    "\n",
    "# colors = cmap(np.linspace(-1, 1, 256))\n",
    "# colors[128:] = np.array([255/256,194/256,10/256, 1])\n",
    "# colors[:128] = np.array([12/256,123/256,220/256, 1])\n",
    "\n",
    "# yebl = mcolors.ListedColormap(colors)\n",
    "# yebl_r = mcolors.ListedColormap(np.flip(colors,axis=0))"
   ]
  },
  {
   "cell_type": "code",
   "execution_count": 15,
   "id": "f668d5c3-7ac9-48ce-b018-e0ccb6597941",
   "metadata": {},
   "outputs": [
    {
     "data": {
      "image/png": "[encoded data removed]",
      "text/plain": [
       "<Figure size 200x800 with 2 Axes>"
      ]
     },
     "metadata": {},
     "output_type": "display_data"
    }
   ],
   "source": [
    "#plot a colorbar\n",
    "import matplotlib.pyplot as plt\n",
    "from matplotlib.colors import LinearSegmentedColormap\n",
    "\n",
    "colors = [(26/256,255/256,26/256), (1, 1, 1), (95/256,0,185/256)] #purple, white, green\n",
    "cmap_name = 'my_list'\n",
    "my_cmap = LinearSegmentedColormap.from_list(cmap_name, colors)\n",
    "\n",
    "fig, ax = plt.subplots(figsize=(2,8))\n",
    "sm = plt.cm.ScalarMappable(cmap=my_cmap, norm=plt.Normalize(vmin=-1, vmax=1))\n",
    "fig.colorbar(sm, ax=ax)\n",
    "plt.show()"
   ]
  },
  {
   "cell_type": "markdown",
   "id": "5c00bc83-5441-47d2-88d1-31c8cdd0d9f6",
   "metadata": {},
   "source": [
    "## PLOT TENSOR DECOMPOSITION"
   ]
  },
  {
   "cell_type": "code",
   "execution_count": null,
   "id": "a2ef824e",
   "metadata": {},
   "outputs": [],
   "source": [
    "#for task in ['movieDM','movieTP','rest_run-1','rest_run-2']:\n",
    "for task in ['rest_run-1','rest_run-2']:\n",
    "#task = 'rest_run-1'\n",
    "\n",
    "    O,Y,components,temporal_modes,contributions,lambda2=nascar_utility.load_nascar(task)\n",
    "\n",
    "    for r in np.arange(30):\n",
    "        to_plot=components[:,r]/np.max(np.abs(components[:,r]))\n",
    "        plot_results(to_plot, 'tensor_decomp', '32k', None, 'hbn', f'rank{r+1}', 'HBN_23', f'{task}');\n",
    "        plot_results_medial(to_plot, 'tensor_decomp', '32k', None, 'hbn', f'rank{r+1}', 'HBN_23_medial', f'{task}');\n",
    "        plot_results_medial_midthickness_alpha(to_plot, 'tensor_decomp', '32k', None, 'hbn', f'rank{r+1}', 'HBN_23_medial_midthickness', f'{task}');\n",
    "        inv=''\n",
    "        #nascar_utility.plot_subcor(to_plot,task,r+1,inv)\n",
    "        inv='_inv'\n",
    "        plot_results_medial_midthickness_alpha(to_plot, 'tensor_decomp_inv', '32k', None, 'hbn', f'rank{r+1}', 'HBN_23_medial_midthickness', f'{task}');\n",
    "        plot_results(to_plot, 'tensor_decomp_inv', '32k', None, 'hbn', f'rank{r+1}', 'HBN_23', f'{task}');\n",
    "        plot_results_medial(to_plot, 'tensor_decomp_inv', '32k', None, 'hbn', f'rank{r+1}', 'HBN_23_medial', f'{task}');\n",
    "        to_plot=to_plot*-1\n",
    "        #nascar_utility.plot_subcor(to_plot,task,r+1,inv)\n"
   ]
  },
  {
   "cell_type": "markdown",
   "id": "ee584f2e-77f1-4201-9184-7ec45d24c67f",
   "metadata": {},
   "source": [
    "## PLOT TENSOR DECOMPOSITION HOTCOLD IN OLD STYLE"
   ]
  },
  {
   "cell_type": "code",
   "execution_count": null,
   "id": "c334a3a2",
   "metadata": {},
   "outputs": [],
   "source": [
    "task='rest_run-1'\n",
    "task='movieTP'\n",
    "\n",
    "#for task in ['rest_run-1','rest_run-2','movieTP','movieDM']:\n",
    "\n",
    "for task in ['movieDM']:\n",
    "\n",
    "    O,Y,components,temporal_modes,contributions,lambda2=nascar_utility.load_nascar(task)\n",
    "    #component_list=nascar_utility.load_components_list(task)\n",
    "    #def plot_results(scores,score_type,data_type,vertex_info,subject,feature,dataset,title):\n",
    "\n",
    "    for r in np.arange(30):\n",
    "        #plot_results(minmax_scale(components[:,r], feature_range=(-10, 10)), 'tensor_decomp', '32k', None, 'sub3', f'rank{r+1}', 'HBN', 'tensor_decomp')\n",
    "        #plot_results(npp.zscore(components[:,r]), 'tensor_decomp', '32k', None, 'hbn_subset', f'rank{r+1}', 'HBN', 'the_present')\n",
    "        plot_results(components[:,r], 'tensor_decomp_raw', '32k', None, 'hbn', f'rank{r+1}', 'HBN_23', f'{task}');"
   ]
  },
  {
   "cell_type": "markdown",
   "id": "f5742e9b",
   "metadata": {},
   "source": [
    "## PLOT PARCELLATIONS included in HCP"
   ]
  },
  {
   "cell_type": "code",
   "execution_count": null,
   "id": "cc864916",
   "metadata": {},
   "outputs": [],
   "source": [
    "#task='rest_run-1'\n",
    "task='movieDM'\n",
    "\n",
    "#for task in ['rest_run-1','rest_run-2','movieTP','movieDM']:\n",
    "\n",
    "#for task in ['movieDM','rest_run-1','rest_run-2','movieTP']:\n",
    "for task in ['rest_run-1','rest_run-2']:\n",
    "    print(task)\n",
    "    O,Y,components,temporal_modes,contributions,lambda2=nascar_utility.load_nascar(task);\n",
    "    component_list=nascar_utility.load_components_list(task);\n",
    "    for par,par_n in [(hcp.yeo7,'yeo7') , (hcp.mmp,'mmp'), (hcp.ca_network,'ca_network')]:\n",
    "    #for par,par_n in [(hcp.mmp,'mmp'), (hcp.ca_network,'ca_network')]:\n",
    "        for c in component_list:\n",
    "            #print(f'COMPONENT {c}');\n",
    "            component=components[:,c-1:c].T;\n",
    "            parcellation=hcp.parcellate(component, par);\n",
    "            to_plot=hcp.unparcellate(parcellation, par)[0,:];\n",
    "            to_plot=to_plot/np.max(np.abs(to_plot));\n",
    "            \n",
    "            plot_results(to_plot, 'tensor_decomp_par', '32k', None, 'hbn', f'rank{c}', 'HBN_par', f'{task}_{par_n}');\n",
    "            #nascar_utility.plot_subcor(to_plot,task,par_n,c);"
   ]
  },
  {
   "cell_type": "markdown",
   "id": "87ca0708-dbe4-44fd-b2fb-ed0640378704",
   "metadata": {},
   "source": [
    "## plot parcellations np.amax()"
   ]
  },
  {
   "cell_type": "code",
   "execution_count": null,
   "id": "bd38e5db-cb69-4d78-b966-e46148775638",
   "metadata": {},
   "outputs": [],
   "source": [
    "#task='rest_run-1'\n",
    "task='movieDM'\n",
    "\n",
    "for task in ['movieTP','movieDM']:#,]:'rest_run-1','rest_run-2'\n",
    "#for task in ['rest_run-2','movieTP']:\n",
    "    print(task)\n",
    "    O,Y,components,temporal_modes,contributions,lambda2=nascar_utility.load_nascar(task);\n",
    "    component_list=nascar_utility.load_components_list(task);\n",
    "    for par,par_n in [(hcp.yeo7,'yeo7') , (hcp.mmp,'mmp'), (hcp.ca_network,'ca_network')]:\n",
    "    #for par,par_n in [(hcp.mmp,'mmp'), (hcp.ca_network,'ca_network')]:\n",
    "    #for par,par_n in [(hcp.yeo7,'yeo7')]:\n",
    "\n",
    "        for c in component_list:\n",
    "            print(f'COMPONENT {c}');\n",
    "            component=components[:,c-1:c].T;\n",
    "            #parcellation=hcp.parcellate(component, par, method=np.amax);\n",
    "            x_val_min=hcp.parcellate(component, par, method=np.amax)[0]    \n",
    "            x_val_max=hcp.parcellate(component, par, method=np.min)[0]    \n",
    "            parcellation = np.maximum(np.abs(x_val_min), x_val_max) * np.sign(x_val_min+x_val_max)\n",
    "            to_plot=hcp.unparcellate(parcellation, par);\n",
    "            to_plot=to_plot/np.max(np.abs(to_plot));\n",
    "            \n",
    "            plot_results(to_plot, 'tensor_decomp_par', '32k', None, 'hbn', f'rank{c}', 'HBN_par_max', f'{task}_{par_n}');\n",
    "            #nascar_utility.plot_subcor_par_max(to_plot,task,par_n,c);"
   ]
  },
  {
   "cell_type": "code",
   "execution_count": null,
   "id": "8a6ec5a1-74c0-4631-86ae-9606d534df25",
   "metadata": {},
   "outputs": [],
   "source": []
  }
 ],
 "metadata": {
  "kernelspec": {
   "display_name": "Python 3 (ipykernel)",
   "language": "python",
   "name": "python3"
  },
  "language_info": {
   "codemirror_mode": {
    "name": "ipython",
    "version": 3
   },
   "file_extension": ".py",
   "mimetype": "text/x-python",
   "name": "python",
   "nbconvert_exporter": "python",
   "pygments_lexer": "ipython3",
   "version": "3.9.13"
  }
 },
 "nbformat": 4,
 "nbformat_minor": 5
}
