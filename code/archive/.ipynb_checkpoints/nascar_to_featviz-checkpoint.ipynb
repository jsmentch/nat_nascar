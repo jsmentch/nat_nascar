{
 "cells": [
  {
   "cell_type": "markdown",
   "id": "brazilian-chamber",
   "metadata": {},
   "source": [
    "# nascar_to_featviz"
   ]
  },
  {
   "cell_type": "code",
   "execution_count": 12,
   "id": "curious-measure",
   "metadata": {},
   "outputs": [],
   "source": [
    "from scipy.io import loadmat\n",
    "import numpy as np\n",
    "import pandas as pd"
   ]
  },
  {
   "cell_type": "code",
   "execution_count": 4,
   "id": "numerous-wrestling",
   "metadata": {},
   "outputs": [],
   "source": [
    "#load despicable me"
   ]
  },
  {
   "cell_type": "code",
   "execution_count": 5,
   "id": "geological-promotion",
   "metadata": {},
   "outputs": [],
   "source": [
    "outputs_file='/om2/scratch/Fri/jsmentch/nascar_data/output/results_movieDM.mat'\n",
    "#mat_contents = loadmat(outputs_file, squeeze_me=True, simplify_cells = True)\n",
    "mat_contents = loadmat(outputs_file)\n",
    "rank=19\n",
    "components_DM=mat_contents['result']['U'][0,rank][0,0]\n",
    "temporal_modes_DM=mat_contents['result']['U'][0,rank][1,0]\n",
    "contributions_DM=mat_contents['result']['U'][0,rank][2,0]\n",
    "\n",
    "meta_file='/om2/scratch/Fri/jsmentch/nascar_data/input/movieDM_meta.mat'\n",
    "mat_contents = loadmat(meta_file)\n",
    "dx_list_DM=mat_contents['dx_list'].squeeze()\n",
    "sub_list_DM=mat_contents['sub_list']\n",
    "ses_list_DM=mat_contents['ses_list']\n"
   ]
  },
  {
   "cell_type": "code",
   "execution_count": 6,
   "id": "extra-check",
   "metadata": {},
   "outputs": [
    {
     "data": {
      "text/plain": [
       "(750, 20)"
      ]
     },
     "execution_count": 6,
     "metadata": {},
     "output_type": "execute_result"
    }
   ],
   "source": [
    "temporal_modes_DM.shape"
   ]
  },
  {
   "cell_type": "code",
   "execution_count": 23,
   "id": "modern-bosnia",
   "metadata": {},
   "outputs": [],
   "source": [
    "TR=0.8\n",
    "for i in np.arange(temporal_modes_DM.shape[1]):\n",
    "    label=f'component_{i+1}'\n",
    "    timecourse=temporal_modes_DM[:,i]\n",
    "    onset=np.arange(timecourse.shape[0])*TR\n",
    "    duration=np.ones(timecourse.shape[0])*TR\n",
    "    data=np.column_stack((onset,duration,timecourse))\n",
    "    #print(data)\n",
    "    df=pd.DataFrame(data,columns=['onset','duration',label])\n",
    "    df.to_csv(f'../outputs/nascar_timecourse_tsv/movieDM_{label}.tsv', index=False, sep=\"\\t\")\n",
    "\n",
    "label='mean_abs_components'\n",
    "mean_abs_temp=np.mean( np.absolute(temporal_modes_DM),axis=1 )\n",
    "onset=np.arange(timecourse.shape[0])*TR\n",
    "duration=np.ones(timecourse.shape[0])*TR\n",
    "data=np.column_stack((onset,duration,mean_abs_temp))\n",
    "#print(data)\n",
    "df=pd.DataFrame(data,columns=['onset','duration',label])\n",
    "df.to_csv(f'../outputs/nascar_timecourse_tsv/movieDM_{label}.tsv', index=False, sep=\"\\t\")"
   ]
  },
  {
   "cell_type": "code",
   "execution_count": 20,
   "id": "incident-spyware",
   "metadata": {},
   "outputs": [
    {
     "data": {
      "text/plain": [
       "(750,)"
      ]
     },
     "execution_count": 20,
     "metadata": {},
     "output_type": "execute_result"
    }
   ],
   "source": []
  },
  {
   "cell_type": "code",
   "execution_count": null,
   "id": "satisfactory-concept",
   "metadata": {},
   "outputs": [],
   "source": []
  }
 ],
 "metadata": {
  "kernelspec": {
   "display_name": "Python 3",
   "language": "python",
   "name": "python3"
  },
  "language_info": {
   "codemirror_mode": {
    "name": "ipython",
    "version": 3
   },
   "file_extension": ".py",
   "mimetype": "text/x-python",
   "name": "python",
   "nbconvert_exporter": "python",
   "pygments_lexer": "ipython3",
   "version": "3.8.5"
  }
 },
 "nbformat": 4,
 "nbformat_minor": 5
}
