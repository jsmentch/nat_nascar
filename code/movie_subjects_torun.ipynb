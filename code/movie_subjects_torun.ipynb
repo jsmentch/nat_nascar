{
 "cells": [
  {
   "cell_type": "code",
   "execution_count": 1,
   "id": "109bfaec-ae46-42c6-9533-cb908eb7992d",
   "metadata": {},
   "outputs": [],
   "source": [
    "import os\n",
    "import glob"
   ]
  },
  {
   "cell_type": "markdown",
   "id": "4e868790-3efa-425a-879a-45d4f131bbb7",
   "metadata": {},
   "source": [
    "## see which subjects have any raw movie but no processed movies"
   ]
  },
  {
   "cell_type": "code",
   "execution_count": 2,
   "id": "b369b7ce-4394-43da-a159-32486d3e4e76",
   "metadata": {},
   "outputs": [],
   "source": [
    "#subjects with any raw movies\n",
    "\n",
    "dir_path = \"/nese/mit/group/sig/projects/hbn/hbn_bids/\"\n",
    "sub_list = [f.name for f in os.scandir(dir_path) if f.is_dir() and f.name.startswith(\"sub-\")]\n",
    "\n",
    "\n",
    "movie_subjects = []\n",
    "for subject in sub_list:\n",
    "    if glob.glob(f\"{dir_path}{subject}/ses-*/func/*movie*_bold.nii.gz\"):\n",
    "        if not glob.glob(f\"{dir_path}derivatives/fmriprep_23.0.0/{subject}/ses-*/func/*movie*\"):\n",
    "            movie_subjects.append(subject)\n",
    "\n",
    "        \n",
    "# with open('movie_subjects_torun.txt', 'w') as f:\n",
    "#     for item in movie_subjects:\n",
    "#         f.write(\"%s\\n\" % item)"
   ]
  },
  {
   "cell_type": "code",
   "execution_count": 13,
   "id": "0177d200-72d5-4dcc-a6b9-08f1b5b03470",
   "metadata": {},
   "outputs": [
    {
     "data": {
      "text/plain": [
       "162"
      ]
     },
     "execution_count": 13,
     "metadata": {},
     "output_type": "execute_result"
    }
   ],
   "source": [
    "len(movie_subjects)"
   ]
  },
  {
   "cell_type": "markdown",
   "id": "31e9f028-82e9-47ed-b64d-582445b0ee36",
   "metadata": {},
   "source": [
    "## see which subjects have any raw rest but no processed rest"
   ]
  },
  {
   "cell_type": "code",
   "execution_count": 17,
   "id": "fa9aad81-c47a-47f9-b2f0-9be39958e54e",
   "metadata": {},
   "outputs": [],
   "source": [
    "#subjects with any raw movies\n",
    "\n",
    "dir_path = \"/nese/mit/group/sig/projects/hbn/hbn_bids/\"\n",
    "sub_list = [f.name for f in os.scandir(dir_path) if f.is_dir() and f.name.startswith(\"sub-\")]\n",
    "\n",
    "\n",
    "rest_subjects = []\n",
    "for subject in sub_list:\n",
    "    if glob.glob(f\"{dir_path}{subject}/ses-*/func/*rest*_bold.nii.gz\"):\n",
    "        if not glob.glob(f\"{dir_path}derivatives/fmriprep_23.0.0/{subject}/ses-*/func/*rest*\"):\n",
    "            rest_subjects.append(subject)\n",
    "\n",
    "        \n",
    "with open('rest_subjects_torun.txt', 'w') as f:\n",
    "    for item in rest_subjects:\n",
    "        f.write(\"%s\\n\" % item)"
   ]
  },
  {
   "cell_type": "code",
   "execution_count": 18,
   "id": "b3ce0c3e-434a-4c9d-8f53-d68248c073a4",
   "metadata": {},
   "outputs": [
    {
     "data": {
      "text/plain": [
       "768"
      ]
     },
     "execution_count": 18,
     "metadata": {},
     "output_type": "execute_result"
    }
   ],
   "source": [
    "len(rest_subjects)"
   ]
  },
  {
   "cell_type": "code",
   "execution_count": 19,
   "id": "fbb9a3bd-6b21-4225-860b-a101795aaf73",
   "metadata": {},
   "outputs": [],
   "source": [
    "#subjects with any raw movies\n",
    "\n",
    "dir_path = \"/nese/mit/group/sig/projects/hbn/hbn_bids/\"\n",
    "sub_list = [f.name for f in os.scandir(dir_path) if f.is_dir() and f.name.startswith(\"sub-\")]\n",
    "\n",
    "\n",
    "peer_subjects = []\n",
    "for subject in sub_list:\n",
    "    if glob.glob(f\"{dir_path}{subject}/ses-*/func/*peer*_bold.nii.gz\"):\n",
    "        if not glob.glob(f\"{dir_path}derivatives/fmriprep_23.0.0/{subject}/ses-*/func/*peer*\"):\n",
    "            peer_subjects.append(subject)\n",
    "\n",
    "        \n",
    "with open('peer_subjects_torun.txt', 'w') as f:\n",
    "    for item in peer_subjects:\n",
    "        f.write(\"%s\\n\" % item)"
   ]
  },
  {
   "cell_type": "code",
   "execution_count": 12,
   "id": "c3e3ce05-0f4d-474b-ada2-1a70302d17ad",
   "metadata": {},
   "outputs": [
    {
     "data": {
      "text/plain": [
       "187"
      ]
     },
     "execution_count": 12,
     "metadata": {},
     "output_type": "execute_result"
    }
   ],
   "source": [
    "len(peer_subjects)"
   ]
  },
  {
   "cell_type": "code",
   "execution_count": null,
   "id": "56604eaf-8d3a-4da3-a11d-b15a2775f443",
   "metadata": {},
   "outputs": [],
   "source": []
  }
 ],
 "metadata": {
  "kernelspec": {
   "display_name": "Python 3 (ipykernel)",
   "language": "python",
   "name": "python3"
  },
  "language_info": {
   "codemirror_mode": {
    "name": "ipython",
    "version": 3
   },
   "file_extension": ".py",
   "mimetype": "text/x-python",
   "name": "python",
   "nbconvert_exporter": "python",
   "pygments_lexer": "ipython3",
   "version": "3.9.13"
  }
 },
 "nbformat": 4,
 "nbformat_minor": 5
}
