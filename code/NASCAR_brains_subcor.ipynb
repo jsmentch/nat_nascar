{
 "cells": [
  {
   "cell_type": "code",
   "execution_count": 1,
   "id": "c9699ba5",
   "metadata": {},
   "outputs": [
    {
     "name": "stderr",
     "output_type": "stream",
     "text": [
      "pixdim[1,2,3] should be non-zero; setting 0 dims to 1\n"
     ]
    },
    {
     "ename": "ImportError",
     "evalue": "cannot import name '_crop_colorbar' from 'nilearn.plotting.img_plotting' (/om2/user/jsmentch/anaconda/envs/nilearn/lib/python3.9/site-packages/nilearn/plotting/img_plotting.py)",
     "output_type": "error",
     "traceback": [
      "\u001b[0;31m---------------------------------------------------------------------------\u001b[0m",
      "\u001b[0;31mImportError\u001b[0m                               Traceback (most recent call last)",
      "Cell \u001b[0;32mIn [1], line 18\u001b[0m\n\u001b[1;32m     15\u001b[0m \u001b[38;5;28;01mimport\u001b[39;00m \u001b[38;5;21;01mmatplotlib\u001b[39;00m\u001b[38;5;21;01m.\u001b[39;00m\u001b[38;5;21;01mgridspec\u001b[39;00m \u001b[38;5;28;01mas\u001b[39;00m \u001b[38;5;21;01mgridspec\u001b[39;00m\n\u001b[1;32m     16\u001b[0m \u001b[38;5;28;01mfrom\u001b[39;00m \u001b[38;5;21;01mPIL\u001b[39;00m \u001b[38;5;28;01mimport\u001b[39;00m Image\n\u001b[0;32m---> 18\u001b[0m \u001b[38;5;28;01mfrom\u001b[39;00m \u001b[38;5;21;01manalysis\u001b[39;00m \u001b[38;5;28;01mimport\u001b[39;00m plot_results\n\u001b[1;32m     19\u001b[0m \u001b[38;5;28;01mfrom\u001b[39;00m \u001b[38;5;21;01manalysis\u001b[39;00m \u001b[38;5;28;01mimport\u001b[39;00m plot_results_medial\n\u001b[1;32m     20\u001b[0m \u001b[38;5;28;01mfrom\u001b[39;00m \u001b[38;5;21;01manalysis\u001b[39;00m \u001b[38;5;28;01mimport\u001b[39;00m plot_results_medial_midthickness_alpha\n",
      "File \u001b[0;32m/om2/scratch/Wed/jsmentch/nat_img/code/analysis.py:6\u001b[0m\n\u001b[1;32m      4\u001b[0m \u001b[38;5;28;01mfrom\u001b[39;00m \u001b[38;5;21;01msklearn\u001b[39;00m\u001b[38;5;21;01m.\u001b[39;00m\u001b[38;5;21;01mmodel_selection\u001b[39;00m \u001b[38;5;28;01mimport\u001b[39;00m KFold\n\u001b[1;32m      5\u001b[0m \u001b[38;5;28;01mfrom\u001b[39;00m \u001b[38;5;21;01msklearn\u001b[39;00m\u001b[38;5;21;01m.\u001b[39;00m\u001b[38;5;21;01mmetrics\u001b[39;00m \u001b[38;5;28;01mimport\u001b[39;00m r2_score\n\u001b[0;32m----> 6\u001b[0m \u001b[38;5;28;01mfrom\u001b[39;00m \u001b[38;5;21;01mnilearn_plotting_custom\u001b[39;00m \u001b[38;5;28;01mimport\u001b[39;00m plot_surf\n\u001b[1;32m      7\u001b[0m \u001b[38;5;28;01mfrom\u001b[39;00m \u001b[38;5;21;01mPIL\u001b[39;00m \u001b[38;5;28;01mimport\u001b[39;00m Image\n\u001b[1;32m      8\u001b[0m \u001b[38;5;28;01mfrom\u001b[39;00m \u001b[38;5;21;01mPIL\u001b[39;00m \u001b[38;5;28;01mimport\u001b[39;00m ImageDraw\n",
      "File \u001b[0;32m/om2/scratch/Wed/jsmentch/nat_img/code/nilearn_plotting_custom.py:13\u001b[0m\n\u001b[1;32m     11\u001b[0m \u001b[38;5;28;01mfrom\u001b[39;00m \u001b[38;5;21;01mmpl_toolkits\u001b[39;00m\u001b[38;5;21;01m.\u001b[39;00m\u001b[38;5;21;01mmplot3d\u001b[39;00m \u001b[38;5;28;01mimport\u001b[39;00m Axes3D\n\u001b[1;32m     12\u001b[0m \u001b[38;5;28;01mfrom\u001b[39;00m \u001b[38;5;21;01mnilearn\u001b[39;00m \u001b[38;5;28;01mimport\u001b[39;00m image\n\u001b[0;32m---> 13\u001b[0m \u001b[38;5;28;01mfrom\u001b[39;00m \u001b[38;5;21;01mnilearn\u001b[39;00m\u001b[38;5;21;01m.\u001b[39;00m\u001b[38;5;21;01mplotting\u001b[39;00m\u001b[38;5;21;01m.\u001b[39;00m\u001b[38;5;21;01mimg_plotting\u001b[39;00m \u001b[38;5;28;01mimport\u001b[39;00m (_get_colorbar_and_data_ranges,\n\u001b[1;32m     14\u001b[0m                                            _crop_colorbar)\n\u001b[1;32m     15\u001b[0m \u001b[38;5;28;01mfrom\u001b[39;00m \u001b[38;5;21;01mnilearn\u001b[39;00m\u001b[38;5;21;01m.\u001b[39;00m\u001b[38;5;21;01msurface\u001b[39;00m \u001b[38;5;28;01mimport\u001b[39;00m (load_surf_data,\n\u001b[1;32m     16\u001b[0m                              load_surf_mesh,\n\u001b[1;32m     17\u001b[0m                              vol_to_surf)\n\u001b[1;32m     18\u001b[0m \u001b[38;5;28;01mfrom\u001b[39;00m \u001b[38;5;21;01mnilearn\u001b[39;00m\u001b[38;5;21;01m.\u001b[39;00m\u001b[38;5;21;01msurface\u001b[39;00m\u001b[38;5;21;01m.\u001b[39;00m\u001b[38;5;21;01msurface\u001b[39;00m \u001b[38;5;28;01mimport\u001b[39;00m _check_mesh\n",
      "\u001b[0;31mImportError\u001b[0m: cannot import name '_crop_colorbar' from 'nilearn.plotting.img_plotting' (/om2/user/jsmentch/anaconda/envs/nilearn/lib/python3.9/site-packages/nilearn/plotting/img_plotting.py)"
     ]
    }
   ],
   "source": [
    "#need to run with singularity container /om2/user/jsmentch/projects/nat_img/.datalad/environments/analysis/image\n",
    "#but run with nilearn conda environment for the subcor plots..\n",
    "import nascar_utility\n",
    "import hcp_utils as hcp\n",
    "import sys\n",
    "from scipy.io import loadmat\n",
    "import numpy as np\n",
    "# Add the directory containing the function to the system path\n",
    "sys.path.insert(0, '/om2/scratch/Wed/jsmentch/nat_img/code')\n",
    "from matplotlib import pyplot as plt\n",
    "from nilearn import plotting\n",
    "import nibabel as nb\n",
    "\n",
    "# Import the function from the file\n",
    "import matplotlib.gridspec as gridspec\n",
    "from PIL import Image\n",
    "\n",
    "from analysis import plot_results\n",
    "from analysis import plot_results_medial\n",
    "from analysis import plot_results_medial_midthickness_alpha\n"
   ]
  },
  {
   "cell_type": "markdown",
   "id": "5c00bc83-5441-47d2-88d1-31c8cdd0d9f6",
   "metadata": {},
   "source": [
    "## PLOT TENSOR DECOMPOSITION SUBCOR"
   ]
  },
  {
   "cell_type": "code",
   "execution_count": null,
   "id": "a2ef824e",
   "metadata": {},
   "outputs": [],
   "source": [
    "#for task in ['movieDM','movieTP','rest_run-1','rest_run-2']:\n",
    "#for task in ['movieDM','movieTP','rest_run-1','rest_run-2']:\n",
    "for task in ['movieTP']:\n",
    "#task = 'rest_run-1'\n",
    "\n",
    "    O,Y,components,temporal_modes,contributions,lambda2=nascar_utility.load_nascar(task)\n",
    "\n",
    "    for r in np.arange(30):\n",
    "        to_plot=components[:,r]/np.max(np.abs(components[:,r]))\n",
    "#         plot_results(to_plot, 'tensor_decomp', '32k', None, 'hbn', f'rank{r+1}', 'HBN_23', f'{task}');\n",
    "#         plot_results_medial(to_plot, 'tensor_decomp', '32k', None, 'hbn', f'rank{r+1}', 'HBN_23_medial', f'{task}');\n",
    "#         plot_results_medial_midthickness_alpha(to_plot, 'tensor_decomp', '32k', None, 'hbn', f'rank{r+1}', 'HBN_23_medial_midthickness', f'{task}');\n",
    "        inv=''\n",
    "        nascar_utility.plot_subcor(to_plot,task,r+1,inv)\n",
    "        inv='_inv'\n",
    "#         plot_results_medial_midthickness_alpha(to_plot, 'tensor_decomp_inv', '32k', None, 'hbn', f'rank{r+1}', 'HBN_23_medial_midthickness', f'{task}');\n",
    "#         plot_results(to_plot, 'tensor_decomp_inv', '32k', None, 'hbn', f'rank{r+1}', 'HBN_23', f'{task}');\n",
    "#         plot_results_medial(to_plot, 'tensor_decomp_inv', '32k', None, 'hbn', f'rank{r+1}', 'HBN_23_medial', f'{task}');\n",
    "        to_plot=to_plot*-1\n",
    "        nascar_utility.plot_subcor(to_plot,task,r+1,inv)\n"
   ]
  },
  {
   "cell_type": "markdown",
   "id": "ee584f2e-77f1-4201-9184-7ec45d24c67f",
   "metadata": {},
   "source": [
    "## PLOT TENSOR DECOMPOSITION HOTCOLD IN OLD STYLE"
   ]
  },
  {
   "cell_type": "code",
   "execution_count": null,
   "id": "c334a3a2",
   "metadata": {},
   "outputs": [],
   "source": [
    "# task='rest_run-1'\n",
    "# task='movieTP'\n",
    "\n",
    "# #for task in ['rest_run-1','rest_run-2','movieTP','movieDM']:\n",
    "\n",
    "# for task in ['rest_run-1','rest_run-2','movieTP','movieDM']:\n",
    "\n",
    "#     O,Y,components,temporal_modes,contributions,lambda2=nascar_utility.load_nascar(task)\n",
    "#     #component_list=nascar_utility.load_components_list(task)\n",
    "#     #def plot_results(scores,score_type,data_type,vertex_info,subject,feature,dataset,title):\n",
    "\n",
    "#     for r in np.arange(30):\n",
    "#         #plot_results(minmax_scale(components[:,r], feature_range=(-10, 10)), 'tensor_decomp', '32k', None, 'sub3', f'rank{r+1}', 'HBN', 'tensor_decomp')\n",
    "#         #plot_results(npp.zscore(components[:,r]), 'tensor_decomp', '32k', None, 'hbn_subset', f'rank{r+1}', 'HBN', 'the_present')\n",
    "#         plot_results(components[:,r], 'tensor_decomp_raw', '32k', None, 'hbn', f'rank{r+1}', 'HBN_23', f'{task}');"
   ]
  },
  {
   "cell_type": "markdown",
   "id": "f5742e9b",
   "metadata": {},
   "source": [
    "## PLOT PARCELLATIONS included in HCP"
   ]
  },
  {
   "cell_type": "code",
   "execution_count": 5,
   "id": "cc864916",
   "metadata": {},
   "outputs": [
    {
     "name": "stdout",
     "output_type": "stream",
     "text": [
      "movieTP\n"
     ]
    }
   ],
   "source": [
    "#task='rest_run-1'\n",
    "task='movieDM'\n",
    "\n",
    "#for task in ['rest_run-1','rest_run-2','movieTP','movieDM']:\n",
    "\n",
    "for task in ['movieTP']:\n",
    "    print(task)\n",
    "    O,Y,components,temporal_modes,contributions,lambda2=nascar_utility.load_nascar(task);\n",
    "    component_list=nascar_utility.load_components_list(task);\n",
    "    for par,par_n in [(hcp.yeo7,'yeo7') , (hcp.mmp,'mmp'), (hcp.ca_network,'ca_network')]:\n",
    "    #for par,par_n in [(hcp.mmp,'mmp'), (hcp.ca_network,'ca_network')]:\n",
    "        for c in component_list:\n",
    "            #print(f'COMPONENT {c}');\n",
    "            component=components[:,c-1:c].T;\n",
    "            parcellation=hcp.parcellate(component, par);\n",
    "            to_plot=hcp.unparcellate(parcellation, par)[0,:];\n",
    "            to_plot=to_plot/np.max(np.abs(to_plot));\n",
    "            \n",
    "            #plot_results(to_plot, 'tensor_decomp_par', '32k', None, 'hbn', f'rank{c}', 'HBN_par', f'{task}_{par_n}');\n",
    "            nascar_utility.plot_subcor_par(to_plot,task,par_n,c);"
   ]
  },
  {
   "cell_type": "markdown",
   "id": "87ca0708-dbe4-44fd-b2fb-ed0640378704",
   "metadata": {},
   "source": [
    "## plot parcellations np.amax()"
   ]
  },
  {
   "cell_type": "code",
   "execution_count": null,
   "id": "bd38e5db-cb69-4d78-b966-e46148775638",
   "metadata": {},
   "outputs": [],
   "source": [
    "#task='rest_run-1'\n",
    "task='movieDM'\n",
    "\n",
    "for task in ['movieTP','movieDM','rest_run-1','rest_run-2']:\n",
    "#for task in ['rest_run-2','movieTP']:\n",
    "    print(task)\n",
    "    O,Y,components,temporal_modes,contributions,lambda2=nascar_utility.load_nascar(task);\n",
    "    component_list=nascar_utility.load_components_list(task);\n",
    "    for par,par_n in [(hcp.yeo7,'yeo7') , (hcp.mmp,'mmp'), (hcp.ca_network,'ca_network')]:\n",
    "    #for par,par_n in [(hcp.mmp,'mmp'), (hcp.ca_network,'ca_network')]:\n",
    "    #for par,par_n in [(hcp.yeo7,'yeo7')]:\n",
    "\n",
    "        for c in component_list:\n",
    "            print(f'COMPONENT {c}');\n",
    "            component=components[:,c-1:c].T;\n",
    "            #parcellation=hcp.parcellate(component, par, method=np.amax);\n",
    "            x_val_min=hcp.parcellate(component, par, method=np.amax)[0]    \n",
    "            x_val_max=hcp.parcellate(component, par, method=np.min)[0]    \n",
    "            parcellation = np.maximum(np.abs(x_val_min), x_val_max) * np.sign(x_val_min+x_val_max)\n",
    "            to_plot=hcp.unparcellate(parcellation, par);\n",
    "            to_plot=to_plot/np.max(np.abs(to_plot));\n",
    "            \n",
    "            #plot_results(to_plot, 'tensor_decomp_par', '32k', None, 'hbn', f'rank{c}', 'HBN_par_max', f'{task}_{par_n}');\n",
    "            nascar_utility.plot_subcor_par_max(to_plot,task,par_n,c);"
   ]
  },
  {
   "cell_type": "code",
   "execution_count": null,
   "id": "8a6ec5a1-74c0-4631-86ae-9606d534df25",
   "metadata": {},
   "outputs": [],
   "source": []
  }
 ],
 "metadata": {
  "kernelspec": {
   "display_name": "Python 3 (ipykernel)",
   "language": "python",
   "name": "python3"
  },
  "language_info": {
   "codemirror_mode": {
    "name": "ipython",
    "version": 3
   },
   "file_extension": ".py",
   "mimetype": "text/x-python",
   "name": "python",
   "nbconvert_exporter": "python",
   "pygments_lexer": "ipython3",
   "version": "3.9.13"
  }
 },
 "nbformat": 4,
 "nbformat_minor": 5
}
